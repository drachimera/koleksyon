{
  "cells": [
    {
      "cell_type": "markdown",
      "source": [
        "Every file with the tb prefix stands for 'ThinkBayes'.  This is a simple way of thinking about Baysian Statistics.  This file shows how to import the files and get things going.\n"
      ],
      "metadata": {}
    },
    {
      "cell_type": "code",
      "source": [
        "#imports\n",
        "import sys\n",
        "sys.path.append(\"./lib/ThinkBayes2/\")  #may have to change this\n",
        "from thinkbayes2 import Pmf"
      ],
      "outputs": [],
      "execution_count": 5,
      "metadata": {
        "execution": {
          "iopub.status.busy": "2020-07-02T19:23:38.187Z",
          "iopub.execute_input": "2020-07-02T19:23:38.190Z",
          "iopub.status.idle": "2020-07-02T19:23:38.193Z",
          "shell.execute_reply": "2020-07-02T19:23:38.196Z"
        }
      }
    },
    {
      "cell_type": "code",
      "source": [
        "#if this works, you should be good to go!\n",
        "pmf = Pmf()\n",
        "for x in [1,2,3,4,5,6]:\n",
        "    pmf.Set(x, 1/6.0)\n",
        "print(pmf)"
      ],
      "outputs": [
        {
          "output_type": "stream",
          "name": "stdout",
          "text": [
            "Pmf({1: 0.16666666666666666, 2: 0.16666666666666666, 3: 0.16666666666666666, 4: 0.16666666666666666, 5: 0.16666666666666666, 6: 0.16666666666666666})\n"
          ]
        }
      ],
      "execution_count": 6,
      "metadata": {
        "collapsed": true,
        "jupyter": {
          "source_hidden": false,
          "outputs_hidden": false
        },
        "nteract": {
          "transient": {
            "deleting": false
          }
        },
        "execution": {
          "iopub.status.busy": "2020-07-02T19:23:38.414Z",
          "iopub.execute_input": "2020-07-02T19:23:38.417Z",
          "iopub.status.idle": "2020-07-02T19:23:38.423Z",
          "shell.execute_reply": "2020-07-02T19:23:38.426Z"
        }
      }
    },
    {
      "cell_type": "code",
      "source": [],
      "outputs": [],
      "execution_count": null,
      "metadata": {
        "collapsed": true,
        "jupyter": {
          "source_hidden": false,
          "outputs_hidden": false
        },
        "nteract": {
          "transient": {
            "deleting": false
          }
        }
      }
    }
  ],
  "metadata": {
    "kernelspec": {
      "display_name": "Python 3",
      "language": "python",
      "name": "python3"
    },
    "language_info": {
      "name": "python",
      "version": "3.7.6",
      "mimetype": "text/x-python",
      "codemirror_mode": {
        "name": "ipython",
        "version": 3
      },
      "pygments_lexer": "ipython3",
      "nbconvert_exporter": "python",
      "file_extension": ".py"
    },
    "nteract": {
      "version": "0.23.3"
    }
  },
  "nbformat": 4,
  "nbformat_minor": 2
}